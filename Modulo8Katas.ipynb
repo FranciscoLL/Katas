{
 "cells": [
  {
   "cell_type": "markdown",
   "metadata": {},
   "source": [
    "# Modulo 8 Kata: Administrar datos con diccionarios"
   ]
  },
  {
   "cell_type": "markdown",
   "metadata": {},
   "source": [
    "### Ejercicio: Crear y modificar un diccionario de Python"
   ]
  },
  {
   "cell_type": "code",
   "execution_count": 16,
   "metadata": {},
   "outputs": [
    {
     "name": "stdout",
     "output_type": "stream",
     "text": [
      "El planeta Marte tiene 2 lunas\n",
      "El planeta Marte tiene una circunferencia polar de 6752 kms\n"
     ]
    }
   ],
   "source": [
    "# Crea un diccionario llamado planet con los datos propuestos\n",
    "\n",
    "#Datos:\n",
    "#   Nombre: Marte\n",
    "#   Lunas: 2\n",
    "\n",
    "datos={\n",
    "    'nombre': 'Marte',\n",
    "    'lunas': 2\n",
    "}\n",
    "\n",
    "# Muestra el nombre del planeta y el número de lunas que tiene.\n",
    "print('El planeta ' + datos[\"nombre\"] + ' tiene ' + str(datos[\"lunas\"]) + ' lunas')\n",
    "\n",
    "# Agrega la clave circunferencia con los datos proporcionados previamente\n",
    "#   polar = 6752\n",
    "#   equatorial = 6792\n",
    "\n",
    "datos['circunferencia'] = {\n",
    "    'polar': 6752,\n",
    "    'equatorial': 6792\n",
    "}\n",
    "\n",
    "# Imprime el nombre del planeta con su circunferencia polar.\n",
    "print(\"El planeta \" + datos['nombre'] + \" tiene una circunferencia polar de \" + str(datos[\"circunferencia\"][\"polar\"]) + \" kms\")"
   ]
  },
  {
   "cell_type": "code",
   "execution_count": null,
   "metadata": {},
   "outputs": [],
   "source": [
    "datos={\n",
    "    'nombre': 'Marte',\n",
    "    'lunas': 2\n",
    "}\n",
    "\n",
    "print(f'El planeta {datos[\"nombre\"]} tiene {datos[\"lunas\"]} lunas')\n",
    "\n",
    "datos['circunferencia'] = {\n",
    "    'polar': 6752,\n",
    "    'equatorial': 6792\n",
    "}\n",
    "\n",
    "print(f'{datos[\"nombre\"]} tiene una circunferencia polar de {datos[\"circunferencia\"][\"polar\"]} kms')"
   ]
  },
  {
   "cell_type": "markdown",
   "metadata": {},
   "source": [
    "### Ejercicio: Cálculo de Valores"
   ]
  },
  {
   "cell_type": "code",
   "execution_count": 21,
   "metadata": {},
   "outputs": [
    {
     "name": "stdout",
     "output_type": "stream",
     "text": [
      "Lunas en total: 214\n",
      "Planetas en total: 12\n",
      "El promedio de lunas totales es 17.833333333333332\n"
     ]
    }
   ],
   "source": [
    "# Planetas y lunas\n",
    "\n",
    "planet_moons = {\n",
    "    'mercury': 0,\n",
    "    'venus': 0,\n",
    "    'earth': 1,\n",
    "    'mars': 2,\n",
    "    'jupiter': 79,\n",
    "    'saturn': 82,\n",
    "    'uranus': 27,\n",
    "    'neptune': 14,\n",
    "    'pluto': 5,\n",
    "    'haumea': 2,\n",
    "    'makemake': 1,\n",
    "    'eris': 1\n",
    "}\n",
    "\n",
    "# Añade el código para determinar el número de lunas.\n",
    "moons = planet_moons.values()\n",
    "planets = len(planet_moons.keys())\n",
    "\n",
    "\n",
    "# Agrega el código para contar el número de lunas.\n",
    "\n",
    "total_moons = 0\n",
    "for moon in moons:\n",
    "    total_moons = total_moons + moon\n",
    "\n",
    "print(f\"Lunas en total: {total_moons}\")\n",
    "print(f\"Planetas en total: {planets}\")\n",
    "\n",
    "resultado = total_moons / planets\n",
    "\n",
    "print(f\"El promedio de lunas totales es {resultado}\")"
   ]
  }
 ],
 "metadata": {
  "interpreter": {
   "hash": "d4675d8acc35d90fef7531039e9326b0ad4562afe510f18e9ce024ce875eb7b5"
  },
  "kernelspec": {
   "display_name": "Python 3.10.2 64-bit",
   "language": "python",
   "name": "python3"
  },
  "language_info": {
   "codemirror_mode": {
    "name": "ipython",
    "version": 3
   },
   "file_extension": ".py",
   "mimetype": "text/x-python",
   "name": "python",
   "nbconvert_exporter": "python",
   "pygments_lexer": "ipython3",
   "version": "3.10.2"
  },
  "orig_nbformat": 4
 },
 "nbformat": 4,
 "nbformat_minor": 2
}
