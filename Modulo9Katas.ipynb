{
 "cells": [
  {
   "cell_type": "markdown",
   "metadata": {},
   "source": [
    "# Módulo 9 Kata: Funciones"
   ]
  },
  {
   "cell_type": "markdown",
   "metadata": {},
   "source": [
    "### Ejercicio 1: Trabajar con argumentos en funciones"
   ]
  },
  {
   "cell_type": "code",
   "execution_count": null,
   "metadata": {},
   "outputs": [],
   "source": [
    "# Función para leer 3 tanques de combustible y muestre el promedio\n",
    "\n",
    "def tanques(tanque1, tanque2, tanque3):\n",
    "    promedio = (tanque1+tanque2+tanque3) / 3\n",
    "\n",
    "    return print(f\"\"\"Reporte de combustibles:\n",
    "    Promedio de combustible: {promedio}%\n",
    "    Tanque principal: {tanque1}%\n",
    "    Tanque secundario 1: {tanque2}%\n",
    "    Tanque secundario 2: {tanque3}%\"\"\")\n",
    "\n",
    "# Llamamos a la función que genera el reporte print(funcion(tanque1, tanque2, tanque3))\n",
    "tanques(50,55,65)\n",
    "\n",
    "# Función promedio\n",
    "def promedio(porcentajes):\n",
    "    total=sum(porcentajes)\n",
    "    cantidad=len(porcentajes)\n",
    "    return total/cantidad\n",
    "\n",
    "# Actualiza la función\n",
    "promedio([60,60,60])"
   ]
  },
  {
   "cell_type": "markdown",
   "metadata": {},
   "source": [
    "### Ejercicio 2: Trabajar con argumentos de palabras clave"
   ]
  },
  {
   "cell_type": "code",
   "execution_count": null,
   "metadata": {},
   "outputs": [],
   "source": [
    "# Función con un informe preciso de la misión.\n",
    "# Considera hora de prelanzamiento, tiempo de vuelo, destino, tanque externo y tanque interno\n",
    "\n",
    "def informe(prelanzamiento, tiempodevuelo, destino, tanque_e, tanque_i):\n",
    "    return print(f\"\"\"\n",
    "    Destino: {destino}\n",
    "    Tiempo total de vuelo: {prelanzamiento + tiempodevuelo} minutos\n",
    "    Combustible disponible: {tanque_e+tanque_i} unidades\"\"\")\n",
    "\n",
    "informe(10,80,'Luna',100,150)\n",
    "\n",
    "# Adaptar para minutos adicionales o tanques adicionales de combustible\n",
    "# Escribe tu nueva función de reporte considerando lo anterior\n",
    "\n",
    "def informe(destino, *tiempo, **tanques):\n",
    "    return print(f\"\"\"\n",
    "    Destino: {destino}\n",
    "    Tiempo total de vuelo: {sum(tiempo)} minutos\n",
    "    Combustible disponible: {sum(tanques.values())} unidades\"\"\")\n",
    "\n",
    "informe('Luna',50,20,10,princial=200,secundario=300,emergencia=500)\n",
    "\n",
    "# Actualiza la función para usar el nombre de cada tanque en el informe\n",
    "def informe(destino, *tiempo, **tanques):\n",
    "    reporte = f\"\"\"\n",
    "    Destino: {destino}\n",
    "    Tiempo total de vuelo: {sum(tiempo)} minutos\n",
    "    Combustible disponible: {sum(tanques.values())} unidades\n",
    "    \"\"\"\n",
    "\n",
    "    for nombre, unidades in tanques.items():\n",
    "            reporte += f\"   Tanque {nombre} : {unidades} unidades \\n    \"\n",
    "    return reporte\n",
    "\n",
    "print(informe('Luna',50,20,10,princial=200,secundario=300,emergencia=500))"
   ]
  }
 ],
 "metadata": {
  "interpreter": {
   "hash": "d4675d8acc35d90fef7531039e9326b0ad4562afe510f18e9ce024ce875eb7b5"
  },
  "kernelspec": {
   "display_name": "Python 3.10.2 64-bit",
   "language": "python",
   "name": "python3"
  },
  "language_info": {
   "codemirror_mode": {
    "name": "ipython",
    "version": 3
   },
   "file_extension": ".py",
   "mimetype": "text/x-python",
   "name": "python",
   "nbconvert_exporter": "python",
   "pygments_lexer": "ipython3",
   "version": "3.10.2"
  },
  "orig_nbformat": 4
 },
 "nbformat": 4,
 "nbformat_minor": 2
}
