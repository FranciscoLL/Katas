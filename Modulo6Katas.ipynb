{
 "cells": [
  {
   "cell_type": "markdown",
   "metadata": {},
   "source": [
    "# Módulo 6 Kata: Introducción a las listas"
   ]
  },
  {
   "cell_type": "markdown",
   "metadata": {},
   "source": [
    "### Ejercicio 1: Crear y Usar listas de Python"
   ]
  },
  {
   "cell_type": "code",
   "execution_count": null,
   "metadata": {},
   "outputs": [],
   "source": [
    "# Creamos la lista planets y la mostramos\n",
    "planetas = ['Mercurio', 'Venus', 'Tierra', 'Marte', 'Jupiter', 'Saturno', 'Urano', 'Neptuno']\n",
    "\n",
    "print(\"Existen un total de\", len(planetas), \"planetas en nuestro sistema solar\")\n",
    "\n",
    "# Agregamos a plutón y mostramos el último elemento\n",
    "planetas.append('Pluton')\n",
    "\n",
    "print(planetas[-1], 'es ahora el ultimo planeta')"
   ]
  },
  {
   "cell_type": "markdown",
   "metadata": {},
   "source": [
    "### Ejercicio 2: Trabajando con datos de una lista"
   ]
  },
  {
   "cell_type": "code",
   "execution_count": 20,
   "metadata": {},
   "outputs": [
    {
     "name": "stdout",
     "output_type": "stream",
     "text": [
      "Mates\n",
      "Introduciste un nombre incorrecto\n"
     ]
    }
   ],
   "source": [
    "# Lista de planetas\n",
    "planetas = ['Mercurio', 'Venus', 'Tierra', 'Marte', 'Jupiter', 'Saturno', 'Urano', 'Neptuno']\n",
    "\n",
    "# Solicitamos el nombre de un planeta *Pista:  input()*\n",
    "consulta = input(\"Introduce el nombre de un planeta\")\n",
    "\n",
    "if consulta:\n",
    "    consulta = consulta.capitalize()\n",
    "    print(consulta)\n",
    "\n",
    "    # Busca el planeta en la lista\n",
    "    if consulta not in planetas:\n",
    "        print(\"Introduciste un nombre incorrecto\")\n",
    "    else:\n",
    "        indice1 = planetas.index(consulta)\n",
    "\n",
    "        # Muestra los planetas más cercanos al sol\n",
    "        print(\"Estos son los planetas mas cercanos que \" + consulta + \" al sol.\")\n",
    "        print(planetas[0:indice1])\n",
    "\n",
    "        # Muestra los planetas más lejanos al sol\n",
    "        print(\"Estos son los planetas mas lejanos que \" + consulta + \" al sol.\")\n",
    "        print(planetas[indice1+1:])\n",
    "else:\n",
    "    print(\"Debes introducir un nombre\")\n",
    "\n"
   ]
  }
 ],
 "metadata": {
  "interpreter": {
   "hash": "d4675d8acc35d90fef7531039e9326b0ad4562afe510f18e9ce024ce875eb7b5"
  },
  "kernelspec": {
   "display_name": "Python 3.10.2 64-bit",
   "language": "python",
   "name": "python3"
  },
  "language_info": {
   "codemirror_mode": {
    "name": "ipython",
    "version": 3
   },
   "file_extension": ".py",
   "mimetype": "text/x-python",
   "name": "python",
   "nbconvert_exporter": "python",
   "pygments_lexer": "ipython3",
   "version": "3.10.2"
  },
  "orig_nbformat": 4
 },
 "nbformat": 4,
 "nbformat_minor": 2
}
