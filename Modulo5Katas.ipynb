{
 "cells": [
  {
   "cell_type": "markdown",
   "metadata": {},
   "source": [
    "# Módulo 5 Kata: Operaciones Matemáticas"
   ]
  },
  {
   "cell_type": "markdown",
   "metadata": {},
   "source": [
    "### Ejercicio 1 - Utilizar operadores aritméticos"
   ]
  },
  {
   "cell_type": "code",
   "execution_count": null,
   "metadata": {},
   "outputs": [],
   "source": [
    "# Crear variables para almacenar las dos distancias\n",
    "# ¡Asegúrate de quitar las comas!\n",
    "tierra = 149597870\n",
    "jupiter = 778547200\n",
    "milla = 0.621\n",
    "\n",
    "# Calcular la distancia entre planetas\n",
    "distancia1 = (jupiter-tierra)\n",
    "distancia2 = (jupiter-tierra)*milla\n",
    "\n",
    "# Comprobar resultado\n",
    "print(str(distancia1) + \" kms\")\n",
    "print(str(distancia2) + \" millas\")"
   ]
  },
  {
   "cell_type": "markdown",
   "metadata": {},
   "source": [
    "### Ejercicio 2: convierte cadenas en números y usa valores absolutos"
   ]
  },
  {
   "cell_type": "markdown",
   "metadata": {},
   "source": [
    "| Planeta  | Distancia al sol |\n",
    "| ------- | ----------------- |\n",
    "| Mercurio | 57900000          |\n",
    "| Venus   | 108200000         |\n",
    "| Tierra   | 149600000         |\n",
    "| Marte    | 227900000         |\n",
    "| Júpiter | 778600000         |\n",
    "| Saturno  | 1433500000        |\n",
    "| Urano  | 2872500000        |\n",
    "| Neptuno | 4495100000        |"
   ]
  },
  {
   "cell_type": "code",
   "execution_count": null,
   "metadata": {},
   "outputs": [],
   "source": [
    "# Almacenar las entradas del usuario\n",
    "\n",
    "print(\"Introduce el nombre del primer planeta:\")\n",
    "nombre1 = input(\"Introduce el nombre del primer planeta\")\n",
    "print(nombre1)\n",
    "\n",
    "print(\"A continuación introduce la distancia del sol a \" + nombre1 + \":\")\n",
    "distancia1 = input(\"Introduce la distancia del sol a \" + nombre1)\n",
    "print(distancia1)\n",
    "\n",
    "print(\"Ahora introduce el nombre del segundo planeta:\")\n",
    "nombre2 = input(\"Introduce el nombre del segundo planeta\")\n",
    "print(nombre2)\n",
    "\n",
    "print(\"A continuación introduce la distancia del sol a \" + nombre2 + \":\")\n",
    "distancia2 = input(\"Introduce la distancia del sol a \" + nombre2)\n",
    "print(distancia2)\n",
    "\n",
    "# Convierte las cadenas de ambos planetas a números enteros\n",
    "distancia1 = int(distancia1)\n",
    "distancia2 = int(distancia2)\n",
    "\n",
    "# Realizar el cálculo y determinar el valor absoluto\n",
    "distancia_km = distancia1 - distancia2\n",
    "\n",
    "print(\"La distancia entre \" + nombre1 + \" y \" + nombre2 + \" es de \" + str(abs(distancia_km)) + \" kms\")\n",
    "\n",
    "# Convertir de KM a Millas\n",
    "distancia_mi = distancia_km * 0.621\n",
    "print(\"La distancia entre \" + nombre1 + \" y \" + nombre2 + \" es de \" + str(abs(distancia_mi)) + \" millas\")\n"
   ]
  }
 ],
 "metadata": {
  "interpreter": {
   "hash": "d4675d8acc35d90fef7531039e9326b0ad4562afe510f18e9ce024ce875eb7b5"
  },
  "kernelspec": {
   "display_name": "Python 3.10.2 64-bit",
   "language": "python",
   "name": "python3"
  },
  "language_info": {
   "codemirror_mode": {
    "name": "ipython",
    "version": 3
   },
   "file_extension": ".py",
   "mimetype": "text/x-python",
   "name": "python",
   "nbconvert_exporter": "python",
   "pygments_lexer": "ipython3",
   "version": "3.10.2"
  },
  "orig_nbformat": 4
 },
 "nbformat": 4,
 "nbformat_minor": 2
}
