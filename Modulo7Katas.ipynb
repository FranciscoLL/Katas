{
 "cells": [
  {
   "cell_type": "markdown",
   "metadata": {},
   "source": [
    "# Módulo 7 Kata: Estructuras de control"
   ]
  },
  {
   "cell_type": "markdown",
   "metadata": {},
   "source": [
    "### Ejercicio 1: Creación de un bucle \"While\""
   ]
  },
  {
   "cell_type": "code",
   "execution_count": 4,
   "metadata": {},
   "outputs": [
    {
     "name": "stdout",
     "output_type": "stream",
     "text": [
      "Mercurio\n",
      "Venus\n",
      "Tierra\n",
      "Marte\n",
      "Jupiter\n",
      "Saturno\n"
     ]
    }
   ],
   "source": [
    "#Declara las variables para el input de usuario y la lista de planetas\n",
    "nuevo = \"\"\n",
    "planetas = []\n",
    "\n",
    "# Escribe el ciclo while para ingresar planeta por planeta hasta que el usuario escriba Done\n",
    "while nuevo != 'done':\n",
    "    if nuevo:\n",
    "        planetas.append(nuevo)\n",
    "    nuevo = input('Introduce un nuevo planeta:').lower()\n",
    "\n",
    "# Escribe el ciclo for para iterar en una lista de planetas\n",
    "for planeta in planetas:\n",
    "    print(planeta.capitalize())"
   ]
  }
 ],
 "metadata": {
  "interpreter": {
   "hash": "d4675d8acc35d90fef7531039e9326b0ad4562afe510f18e9ce024ce875eb7b5"
  },
  "kernelspec": {
   "display_name": "Python 3.10.2 64-bit",
   "language": "python",
   "name": "python3"
  },
  "language_info": {
   "codemirror_mode": {
    "name": "ipython",
    "version": 3
   },
   "file_extension": ".py",
   "mimetype": "text/x-python",
   "name": "python",
   "nbconvert_exporter": "python",
   "pygments_lexer": "ipython3",
   "version": "3.10.2"
  },
  "orig_nbformat": 4
 },
 "nbformat": 4,
 "nbformat_minor": 2
}
