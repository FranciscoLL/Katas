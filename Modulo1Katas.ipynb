{
 "cells": [
  {
   "cell_type": "markdown",
   "metadata": {},
   "source": [
    "# Módulo 1 Kata: Primer programa"
   ]
  },
  {
   "cell_type": "code",
   "execution_count": 18,
   "metadata": {},
   "outputs": [
    {
     "name": "stdout",
     "output_type": "stream",
     "text": [
      "La fecha de hoy es: Sunday 13 February 2022\n"
     ]
    }
   ],
   "source": [
    "# Importamos la biblioteca.\n",
    "import datetime\n",
    "\n",
    "# Obtenemos la fecha de hoy.\n",
    "date = datetime.datetime.now()\n",
    "\n",
    "# Mostramos la fecha en la consola.\n",
    "print(\"La fecha de hoy es: \" + str(date.strftime(\"%A\")) + \" \" + str(date.strftime(\"%d\")) + \" \" + str(date.strftime(\"%B\")) + \" \" + str(date.strftime(\"%Y\")))\n"
   ]
  },
  {
   "cell_type": "code",
   "execution_count": 17,
   "metadata": {},
   "outputs": [
    {
     "name": "stdout",
     "output_type": "stream",
     "text": [
      "Today's date is: 2022-02-13\n"
     ]
    }
   ],
   "source": [
    "# Importamos desde la biblioteca.\n",
    "from datetime import date\n",
    "\n",
    "# Mostramos la fecha en la consola.\n",
    "print(\"La fecha actual es: \" + str(date.today()))"
   ]
  },
  {
   "cell_type": "markdown",
   "metadata": {},
   "source": [
    "### Convertidor de unidades"
   ]
  },
  {
   "cell_type": "code",
   "execution_count": 20,
   "metadata": {},
   "outputs": [
    {
     "name": "stdout",
     "output_type": "stream",
     "text": [
      "11 parsec, is 35.877159999999996 lightyears\n"
     ]
    }
   ],
   "source": [
    "# Indicamos las unidades obtenidas.\n",
    "parsec = 11\n",
    "\n",
    "# Se realiza la conversión mediante una operación.\n",
    "lightyears = 3.26156 * parsec\n",
    "\n",
    "# Se imprime el resultado en la cadena de texto con los valores obtenidos.\n",
    "print(str(parsec) + \" parsec, is \" + str(lightyears) + \" lightyears\")"
   ]
  }
 ],
 "metadata": {
  "interpreter": {
   "hash": "d4675d8acc35d90fef7531039e9326b0ad4562afe510f18e9ce024ce875eb7b5"
  },
  "kernelspec": {
   "display_name": "Python 3.10.2 64-bit",
   "language": "python",
   "name": "python3"
  },
  "language_info": {
   "codemirror_mode": {
    "name": "ipython",
    "version": 3
   },
   "file_extension": ".py",
   "mimetype": "text/x-python",
   "name": "python",
   "nbconvert_exporter": "python",
   "pygments_lexer": "ipython3",
   "version": "3.10.2"
  },
  "orig_nbformat": 4
 },
 "nbformat": 4,
 "nbformat_minor": 2
}
