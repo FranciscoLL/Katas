{
 "cells": [
  {
   "cell_type": "markdown",
   "metadata": {},
   "source": [
    "# Módulo 3 Kata: Escribir declaraciones 'if', 'else', y 'elif'"
   ]
  },
  {
   "cell_type": "code",
   "execution_count": 1,
   "metadata": {},
   "outputs": [
    {
     "name": "stdout",
     "output_type": "stream",
     "text": [
      "¡Peligro inminente de colisión de asteroide!\n"
     ]
    }
   ],
   "source": [
    "# Añadir el código necesario para crear una variable que guarde la velocidad del asteroide.\n",
    "# Escribe una expresión de prueba para calcular si necesita una advertencia.\n",
    "# Agregue las instrucciones que se ejecutarán si la expresión de prueba es true o false.\n",
    "\n",
    "vel_asteroide = 49\n",
    "\n",
    "if vel_asteroide >= 20:\n",
    "    print(\"¡Peligro inminente de colisión de asteroide!\")\n",
    "else:\n",
    "    print(\"Estamos fuera de peligro\")"
   ]
  },
  {
   "cell_type": "code",
   "execution_count": null,
   "metadata": {},
   "outputs": [],
   "source": [
    "# Agrega el código para crear una variable para un asteroide que viaja a 19 km/s\n",
    "# Escribe varias expresiones de prueba para determinar si puedes ver el rayo de luz desde la tierra\n",
    "# Agrega las instrucciones que se ejecutarán si las expresiones de prueba son True o False\n",
    "\n",
    "vel_asteroide = 19\n",
    "\n",
    "if vel_asteroide > 20:\n",
    "    print('Se puede observar el haz de luz del asteroide')\n",
    "elif vel_asteroide == 20:\n",
    "    print('Se puede observar el haz de luz del asteroide')\n",
    "else:\n",
    "    print('No hay eventos observables')"
   ]
  },
  {
   "cell_type": "code",
   "execution_count": 13,
   "metadata": {},
   "outputs": [
    {
     "name": "stdout",
     "output_type": "stream",
     "text": [
      "¡Alerta, Peligro inminente acercandose!\n"
     ]
    }
   ],
   "source": [
    "# Agrega el código para crear nuevas variables para la velocidad y el tamaño del asteroide\n",
    "# Para probar el código, prueba con varias velocidades y tamaños\n",
    "# Escribe varias expresiones de prueba o combinaciones de expresiones de prueba para determinar qué mensaje se debe enviar a Tierra.\n",
    "\n",
    "vel_asteroide = 25\n",
    "tam_asteroide = 40\n",
    "\n",
    "if vel_asteroide >= 25 and tam_asteroide >= 25:\n",
    "    print('¡Alerta, Peligro inminente acercandose!')\n",
    "elif tam_asteroide >= 25:\n",
    "    print('Asteroide de tamaño considerable acercandose (Peligro por evaluar)')\n",
    "elif vel_asteroide >= 20:\n",
    "    print('Un haz de luz visible en el cielo')\n",
    "else:\n",
    "    print('No hay actualización de eventos')"
   ]
  }
 ],
 "metadata": {
  "interpreter": {
   "hash": "d4675d8acc35d90fef7531039e9326b0ad4562afe510f18e9ce024ce875eb7b5"
  },
  "kernelspec": {
   "display_name": "Python 3.10.2 64-bit",
   "language": "python",
   "name": "python3"
  },
  "language_info": {
   "codemirror_mode": {
    "name": "ipython",
    "version": 3
   },
   "file_extension": ".py",
   "mimetype": "text/x-python",
   "name": "python",
   "nbconvert_exporter": "python",
   "pygments_lexer": "ipython3",
   "version": "3.10.2"
  },
  "orig_nbformat": 4
 },
 "nbformat": 4,
 "nbformat_minor": 2
}
